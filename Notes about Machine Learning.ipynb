{
 "cells": [
  {
   "cell_type": "markdown",
   "metadata": {},
   "source": [
    "# Machine Learning\n",
    "\n",
    "Study notes about Machine Learning."
   ]
  },
  {
   "cell_type": "markdown",
   "metadata": {},
   "source": [
    "First of all, lets load Matplotlib and NumPy"
   ]
  },
  {
   "cell_type": "code",
   "execution_count": 22,
   "metadata": {
    "collapsed": true
   },
   "outputs": [],
   "source": [
    "import matplotlib.pyplot as plt\n",
    "import numpy as np\n",
    "%matplotlib inline"
   ]
  },
  {
   "cell_type": "markdown",
   "metadata": {},
   "source": [
    "## Artificial neural networks\n",
    "\n",
    "### Perceptron neurons\n",
    "\n",
    "For historical reasons lets start with the simplest form of a neuron, the _Perceptron_. Developed by Frank Rosenblatt inspired by earlier works by Warren McCulloch and Walter Pitts. We do not use _Perceptrons_ neurons nowadays (_sigmoid_ neurons are much more common now) but it will give us and idea of the basic elements of an artificial neuron.\n",
    "\n",
    "A _Perceptron_ consists of many __binary__ inputs $x_1, x_2, x_3, ..., x_n$ and only one __binary__ output. It can be represented graphically by:\n",
    "\n",
    "![Perceptron neuron](http://i.imgur.com/AQzpxb7.png)\n",
    "\n",
    "Rosenblatt introduced the concept of _weights_: each _weight_ is a continuous value $w_i$ associated with each _input_ $x_i$. A _Perceptron_ __fires__ -- its output is 0 or 1 -- when the sum of its weights and inputs are higher than some given _threshold_, or:\n",
    "\n",
    "$$\n",
    "\\begin{eqnarray}\n",
    "  \\mbox{output} & = & \\left\\{ \\begin{array}{ll}\n",
    "      0 & \\mbox{if } \\sum_j w_j x_j \\leq \\mbox{ threshold} \\\\\n",
    "      1 & \\mbox{if } \\sum_j w_j x_j > \\mbox{ threshold}\n",
    "      \\end{array} \\right.\n",
    "\\tag{1}\\end{eqnarray}\n",
    "$$\n",
    "\n",
    "We can implement this kind of neuron as the following, representing inputs and weights as vectors:"
   ]
  },
  {
   "cell_type": "code",
   "execution_count": 2,
   "metadata": {
    "collapsed": true
   },
   "outputs": [],
   "source": [
    "class Perceptron:\n",
    "    def __init__(self, w, x, threshold):\n",
    "        self.w = w\n",
    "        self.x = x\n",
    "        self.threshold = threshold\n",
    "\n",
    "    def run(self):\n",
    "        sum_ = 0\n",
    "        for j in xrange(0, len(self.w)):\n",
    "            sum_ += self.w[j] * self.x[j]\n",
    "        if sum_ <= self.threshold:\n",
    "            return 0\n",
    "        else:\n",
    "            return 1"
   ]
  },
  {
   "cell_type": "markdown",
   "metadata": {},
   "source": [
    "We can think of a _Perceptron_ as a _decision machine_ where inputs are _factors_ we want to choose between and weights are _how much we value_ those factors or features.\n",
    "\n",
    "For example, let's imagine we want to buy a sofa, so we write down some factors about it:\n",
    "\n",
    "- Is it confortable? Yes.\n",
    "- Does it have the color you want? No.\n",
    "- Does it fit in your TV room? Yes.\n",
    "\n",
    "We can represent those factors as inputs, with answers \"Yes\" and \"No\" being represented as 1 or 0: $\\vec{x} = (1, 0, 1)$. To complement our description we can say how much we value each of those factors:\n",
    "\n",
    "- Is it confortable? I really want a cozy sofa!\n",
    "- Does it have the color your want? It's not a big deal.\n",
    "- Does it fit in your TV room? It's important, but I can left it on the social area, there's lots of space there.\n",
    "\n",
    "Let's represent those as weights: $\\vec{w} = (1.0, 0.2, 0.6)$. Note that's totally subjective but helps to give some organic/natural aspect of it.\n",
    "\n",
    "Given that we can run our _Perceptron_ and see what decision we should go for:"
   ]
  },
  {
   "cell_type": "code",
   "execution_count": 16,
   "metadata": {
    "collapsed": false
   },
   "outputs": [
    {
     "data": {
      "text/plain": [
       "1"
      ]
     },
     "execution_count": 16,
     "metadata": {},
     "output_type": "execute_result"
    }
   ],
   "source": [
    "neuron = Perceptron([1.0, 0.2, 0.6], [1, 0, 1], 0.5)\n",
    "neuron.run()"
   ]
  },
  {
   "cell_type": "markdown",
   "metadata": {},
   "source": [
    "Our _Perceptron_ says we should buy the sofa. See that the _threshold_ is also important: if we increase it, we can be more criterious about the features, if we decrease it, we will be more open to buy a sofa:"
   ]
  },
  {
   "cell_type": "code",
   "execution_count": 15,
   "metadata": {
    "collapsed": false
   },
   "outputs": [
    {
     "data": {
      "text/plain": [
       "0"
      ]
     },
     "execution_count": 15,
     "metadata": {},
     "output_type": "execute_result"
    }
   ],
   "source": [
    "neuron = Perceptron([1.0, 0.2, 0.6], [1, 0, 1], 1.8)\n",
    "neuron.run()"
   ]
  },
  {
   "cell_type": "code",
   "execution_count": 17,
   "metadata": {
    "collapsed": false
   },
   "outputs": [
    {
     "data": {
      "text/plain": [
       "1"
      ]
     },
     "execution_count": 17,
     "metadata": {},
     "output_type": "execute_result"
    }
   ],
   "source": [
    "neuron = Perceptron([1.0, 0.2, 0.6], [1, 0, 1], 0.2)\n",
    "neuron.run()"
   ]
  },
  {
   "cell_type": "markdown",
   "metadata": {},
   "source": [
    "> Varying the __weights__ and __threshold__ we can get different _decision models_"
   ]
  },
  {
   "cell_type": "markdown",
   "metadata": {},
   "source": [
    "We can combine many neurons we want, creating _layers_ of _Perceptrons_:\n",
    "\n",
    "![MLP](http://i.imgur.com/ilgR4Cf.png)\n",
    "\n",
    "Each layer encapsulates a decision. Neurons on the right layer are more _high level_ than the neurons on the first layer because they decide about decisions already made by the first layer. Given so, the second layer is more _abstract_ than the first one."
   ]
  },
  {
   "cell_type": "markdown",
   "metadata": {},
   "source": [
    "We can do some improvements on our _Perceptron_ model. First, we known from Linear Algebra that $\\vec{x} \\cdot \\vec{y} = \\sum_j x_j w_j$, so we can rewrite the previous equation as $\\vec{x} \\cdot \\vec{w} \\leq \\mbox{threshold}$. We can introduce the concept of _Perceptron's bias_ $b$ and represent threshold as $b \\equiv -\\mbox{threshold}$ and rewrite the inequality:\n",
    "\n",
    "$$\n",
    "\\begin{eqnarray}\n",
    "    \\vec{x} \\cdot \\vec{w} &\\leq& \\mbox{threshold} \\\\\n",
    "    \\vec{x} \\cdot \\vec{w} -\\mbox{threshold} &\\leq& 0 \\\\\n",
    "    \\vec{x} \\cdot \\vec{w} + b &\\leq& 0 \\\\\n",
    "\\end{eqnarray}\n",
    "$$\n",
    "\n",
    "We should see the _bias_ as _how easy is to fire the neuron_ which makes it sounds more similar with the behavior or a natural neuron.\n",
    "\n",
    "Finally, we can rewrite the whole output function:\n",
    "\n",
    "$$\n",
    "\\begin{eqnarray}\n",
    "  \\mbox{output} & = & \\left\\{ \\begin{array}{ll}\n",
    "      0 & \\mbox{if } \\vec{x} \\cdot \\vec{w} + b \\leq 0 \\\\\n",
    "      1 & \\mbox{if } \\vec{x} \\cdot \\vec{w} + b > 0\n",
    "      \\end{array} \\right.\n",
    "\\tag{2}\\end{eqnarray}\n",
    "$$\n"
   ]
  },
  {
   "cell_type": "markdown",
   "metadata": {},
   "source": [
    "And we can rewrite our _Perceptron_ class accordingly:"
   ]
  },
  {
   "cell_type": "code",
   "execution_count": 32,
   "metadata": {
    "collapsed": false
   },
   "outputs": [],
   "source": [
    "class Perceptron:\n",
    "    def __init__(self, w, x, bias):\n",
    "        self.w = w\n",
    "        self.x = x\n",
    "        self.bias = bias\n",
    "        \n",
    "    def run(self):\n",
    "        output = np.dot(self.x, self.w) + self.bias\n",
    "        if output <= 0:\n",
    "            return 0\n",
    "        return 1"
   ]
  },
  {
   "cell_type": "code",
   "execution_count": 38,
   "metadata": {
    "collapsed": false
   },
   "outputs": [
    {
     "data": {
      "text/plain": [
       "1"
      ]
     },
     "execution_count": 38,
     "metadata": {},
     "output_type": "execute_result"
    }
   ],
   "source": [
    "neuron = Perceptron([1.0, 0.2, 0.6], [1, 0, 1], 0.8)\n",
    "neuron.run()"
   ]
  },
  {
   "cell_type": "markdown",
   "metadata": {},
   "source": [
    "Let's do other minimal modification to our _Perceptron_ model, another more conceptual change. Note the output function is actually a _step function_. So let's make it clear:"
   ]
  },
  {
   "cell_type": "code",
   "execution_count": 39,
   "metadata": {
    "collapsed": true
   },
   "outputs": [],
   "source": [
    "def step(z):\n",
    "    if z <= 0:\n",
    "        return 0.\n",
    "    return 1.\n",
    "\n",
    "class Perceptron:\n",
    "    def __init__(self, w, x, bias):\n",
    "        self.w = w\n",
    "        self.x = x\n",
    "        self.bias = bias\n",
    "        \n",
    "    def run(self):\n",
    "        output = np.dot(self.x, self.w) + self.bias\n",
    "        return step(output)"
   ]
  },
  {
   "cell_type": "markdown",
   "metadata": {},
   "source": [
    "### Sigmoid neurons\n",
    "\n",
    "A Sigmoid neuron is a type of neuron that uses a sigmoid function as \n",
    "an activation function."
   ]
  },
  {
   "cell_type": "code",
   "execution_count": 6,
   "metadata": {
    "collapsed": true
   },
   "outputs": [],
   "source": [
    "def sigmoid(z):\n",
    "    return 1. / (1 + np.exp(-z))"
   ]
  },
  {
   "cell_type": "markdown",
   "metadata": {},
   "source": [
    "Remember that Perceptron uses a step function"
   ]
  },
  {
   "cell_type": "code",
   "execution_count": 40,
   "metadata": {
    "collapsed": true
   },
   "outputs": [],
   "source": [
    "def step(z):\n",
    "    if z <= 0:\n",
    "        return 0.\n",
    "    return 1."
   ]
  },
  {
   "cell_type": "markdown",
   "metadata": {},
   "source": [
    "If we compare both functions, we can see sigmoid is much smoother than step"
   ]
  },
  {
   "cell_type": "code",
   "execution_count": 9,
   "metadata": {
    "collapsed": false
   },
   "outputs": [
    {
     "data": {
      "image/png": "[encoded data removed]",
      "text/plain": [
       "<matplotlib.figure.Figure at 0x7f0c6f17d690>"
      ]
     },
     "metadata": {},
     "output_type": "display_data"
    }
   ],
   "source": [
    "n = 100\n",
    "xs = np.linspace(-10, 10, n)\n",
    "\n",
    "plt.plot(xs, sigmoid(xs), 'b-')\n",
    "plt.plot(xs, [step(x) for x in xs], 'r-')\n",
    "plt.show()"
   ]
  },
  {
   "cell_type": "markdown",
   "metadata": {},
   "source": [
    "Using different activation functions $f(w . x + b)$ will make changes on\n",
    "the partial derivatives (that we use to change values of $w$ and $b$, smoothly).\n",
    "Because sigmoid function has a exponential, and exponentials have sweet\n",
    "properties while derivated, we're going to use them a lot as activation\n",
    "functions.\n",
    "\n",
    "Given that, let's create a Sigmoid neuron"
   ]
  },
  {
   "cell_type": "code",
   "execution_count": 2,
   "metadata": {
    "collapsed": true
   },
   "outputs": [],
   "source": [
    "class Sigmoid:\n",
    "    def __init__(self, w, x, bias):\n",
    "        self.w = np.array(w)\n",
    "        self.x = np.array(x)\n",
    "        self.bias = bias\n",
    "\n",
    "    def sigma(self, z):\n",
    "        sum_ = 0\n",
    "        for j in xrange(self.w.size):\n",
    "            sum_ += self.w[j] * self.x[j] - self.bias\n",
    "        return 1.0 / (1.0 + np.exp(-sum_))\n",
    "\n",
    "    def run(self):\n",
    "        return self.sigma(self.w.dot(self.x) + self.bias)"
   ]
  },
  {
   "cell_type": "markdown",
   "metadata": {},
   "source": [
    "Lets test it"
   ]
  },
  {
   "cell_type": "code",
   "execution_count": 10,
   "metadata": {
    "collapsed": false
   },
   "outputs": [
    {
     "name": "stdout",
     "output_type": "stream",
     "text": [
      "0.0040701377159\n"
     ]
    }
   ],
   "source": [
    "sigmoid = Sigmoid([0.5, 0.5], [0, 1], 3.0)\n",
    "print sigmoid.run()"
   ]
  },
  {
   "cell_type": "markdown",
   "metadata": {},
   "source": [
    "See that we have a continuous value than a stiff 0 or 1, that opens room to learning (making small changes on values to tweak weights will give us sigma values with smooth changes)."
   ]
  },
  {
   "cell_type": "markdown",
   "metadata": {
    "collapsed": true
   },
   "source": [
    "# References\n",
    "\n",
    "- [_Neural Networks and Deep Learning_](http://neuralnetworksanddeeplearning.com), Michael Nielsen"
   ]
  },
  {
   "cell_type": "code",
   "execution_count": null,
   "metadata": {
    "collapsed": true
   },
   "outputs": [],
   "source": []
  }
 ],
 "metadata": {
  "kernelspec": {
   "display_name": "Python 2",
   "language": "python",
   "name": "python2"
  },
  "language_info": {
   "codemirror_mode": {
    "name": "ipython",
    "version": 2
   },
   "file_extension": ".py",
   "mimetype": "text/x-python",
   "name": "python",
   "nbconvert_exporter": "python",
   "pygments_lexer": "ipython2",
   "version": "2.7.6"
  }
 },
 "nbformat": 4,
 "nbformat_minor": 0
}
