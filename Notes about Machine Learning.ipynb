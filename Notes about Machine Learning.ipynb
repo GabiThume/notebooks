{
 "cells": [
  {
   "cell_type": "markdown",
   "metadata": {},
   "source": [
    "# Machine Learning"
   ]
  },
  {
   "cell_type": "markdown",
   "metadata": {},
   "source": [
    "First of all, lets load Matplotlib and NumPy"
   ]
  },
  {
   "cell_type": "code",
   "execution_count": 4,
   "metadata": {
    "collapsed": true
   },
   "outputs": [],
   "source": [
    "import matplotlib.pyplot as plt\n",
    "import numpy as np\n",
    "%matplotlib inline"
   ]
  },
  {
   "cell_type": "markdown",
   "metadata": {},
   "source": [
    "## Artificial neural networks\n",
    "\n",
    "For historical reasons lets start with the simplest form of a neuron, the _Perceptron_. It will give us and idea of the basic elements of an artificial neuron."
   ]
  },
  {
   "cell_type": "code",
   "execution_count": 11,
   "metadata": {
    "collapsed": true
   },
   "outputs": [],
   "source": [
    "class Perceptron:\n",
    "    def __init__(self, w, x, threshold):\n",
    "        self.w = w\n",
    "        self.x = x\n",
    "        self.threshold = threshold\n",
    "\n",
    "    def run(self):\n",
    "        sum_ = 0\n",
    "        for j in xrange(0, len(self.w)):\n",
    "            sum_ += self.w[j] * self.x[j]\n",
    "        if sum_ <= self.threshold:\n",
    "            return 0\n",
    "        else:\n",
    "            return 1"
   ]
  },
  {
   "cell_type": "markdown",
   "metadata": {},
   "source": [
    "We can run it:"
   ]
  },
  {
   "cell_type": "code",
   "execution_count": 12,
   "metadata": {
    "collapsed": false
   },
   "outputs": [
    {
     "name": "stdout",
     "output_type": "stream",
     "text": [
      "1\n"
     ]
    }
   ],
   "source": [
    "neuron = Perceptron([6.0, 2.0, 2.0], [0, 1, 0], 0.5)\n",
    "print neuron.run()"
   ]
  },
  {
   "cell_type": "markdown",
   "metadata": {},
   "source": [
    "A Sigmoid neuron is a type of neuron that uses a sigmoid function as \n",
    "an activation function."
   ]
  },
  {
   "cell_type": "code",
   "execution_count": 6,
   "metadata": {
    "collapsed": true
   },
   "outputs": [],
   "source": [
    "def sigmoid(z):\n",
    "    return 1. / (1 + np.exp(-z))"
   ]
  },
  {
   "cell_type": "markdown",
   "metadata": {},
   "source": [
    "Remember that Perceptron uses a step function"
   ]
  },
  {
   "cell_type": "code",
   "execution_count": 8,
   "metadata": {
    "collapsed": true
   },
   "outputs": [],
   "source": [
    "def step(z):\n",
    "    if z <= 0:\n",
    "        return 0.\n",
    "    else:\n",
    "        return 1."
   ]
  },
  {
   "cell_type": "markdown",
   "metadata": {},
   "source": [
    "If we compare both functions, we can see sigmoid is much smoother than step"
   ]
  },
  {
   "cell_type": "code",
   "execution_count": 9,
   "metadata": {
    "collapsed": false
   },
   "outputs": [
    {
     "data": {
      "image/png": "[encoded data removed]",
      "text/plain": [
       "<matplotlib.figure.Figure at 0x7f0c6f17d690>"
      ]
     },
     "metadata": {},
     "output_type": "display_data"
    }
   ],
   "source": [
    "n = 100\n",
    "xs = np.linspace(-10, 10, n)\n",
    "\n",
    "plt.plot(xs, sigmoid(xs), 'b-')\n",
    "plt.plot(xs, [step(x) for x in xs], 'r-')\n",
    "plt.show()"
   ]
  },
  {
   "cell_type": "markdown",
   "metadata": {},
   "source": [
    "Using different activation functions $f(w . x + b)$ will make changes on\n",
    "the partial derivatives (that we use to change values of $w$ and $b$, smoothly).\n",
    "Because sigmoid function has a exponential, and exponentials have sweet\n",
    "properties while derivated, we're going to use them a lot as activation\n",
    "functions.\n",
    "\n",
    "Given that, let's create a Sigmoid neuron"
   ]
  },
  {
   "cell_type": "code",
   "execution_count": 2,
   "metadata": {
    "collapsed": true
   },
   "outputs": [],
   "source": [
    "class Sigmoid:\n",
    "    def __init__(self, w, x, bias):\n",
    "        self.w = np.array(w)\n",
    "        self.x = np.array(x)\n",
    "        self.bias = bias\n",
    "\n",
    "    def sigma(self, z):\n",
    "        sum_ = 0\n",
    "        for j in xrange(self.w.size):\n",
    "            sum_ += self.w[j] * self.x[j] - self.bias\n",
    "        return 1.0 / (1.0 + np.exp(-sum_))\n",
    "\n",
    "    def run(self):\n",
    "        return self.sigma(self.w.dot(self.x) + self.bias)"
   ]
  },
  {
   "cell_type": "markdown",
   "metadata": {},
   "source": [
    "Lets test it"
   ]
  },
  {
   "cell_type": "code",
   "execution_count": 10,
   "metadata": {
    "collapsed": false
   },
   "outputs": [
    {
     "name": "stdout",
     "output_type": "stream",
     "text": [
      "0.0040701377159\n"
     ]
    }
   ],
   "source": [
    "sigmoid = Sigmoid([0.5, 0.5], [0, 1], 3.0)\n",
    "print sigmoid.run()"
   ]
  },
  {
   "cell_type": "markdown",
   "metadata": {},
   "source": [
    "See that we have a continuous value than a stiff 0 or 1, that opens room to learning (making small changes on values to tweak weights will give us sigma values with smooth changes)."
   ]
  },
  {
   "cell_type": "code",
   "execution_count": null,
   "metadata": {
    "collapsed": true
   },
   "outputs": [],
   "source": []
  }
 ],
 "metadata": {
  "kernelspec": {
   "display_name": "Python 2",
   "language": "python",
   "name": "python2"
  },
  "language_info": {
   "codemirror_mode": {
    "name": "ipython",
    "version": 2
   },
   "file_extension": ".py",
   "mimetype": "text/x-python",
   "name": "python",
   "nbconvert_exporter": "python",
   "pygments_lexer": "ipython2",
   "version": "2.7.6"
  }
 },
 "nbformat": 4,
 "nbformat_minor": 0
}
